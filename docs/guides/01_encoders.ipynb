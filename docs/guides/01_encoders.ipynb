{
 "cells": [
  {
   "cell_type": "markdown",
   "id": "584005db-3346-4e6f-afb6-717a08559764",
   "metadata": {},
   "source": [
    "# Guide: graph encoders"
   ]
  },
  {
   "cell_type": "code",
   "execution_count": 5,
   "id": "7e59d4a3-8076-49ae-ab90-b04958ce2733",
   "metadata": {},
   "outputs": [],
   "source": [
    "from qiskit import QuantumCircuit, transpile\n",
    "from qiskit.providers.fake_provider import FakeLimaV2\n",
    "\n",
    "from ml_qem.data.encoders.graph_utils import (\n",
    "    circuit_to_json_graph, \n",
    "    backend_to_json_graph, \n",
    "    BackendNodeEncoder\n",
    ")"
   ]
  },
  {
   "cell_type": "code",
   "execution_count": 6,
   "id": "b2c2c043-e0b6-4c8d-8c25-5a8bfad1764d",
   "metadata": {},
   "outputs": [
    {
     "data": {
      "text/html": [
       "<pre style=\"word-wrap: normal;white-space: pre;background: #fff0;line-height: 1.1;font-family: &quot;Courier New&quot;,Courier,monospace\">        ┌───┐      ░ ┌─┐   \n",
       "   q_0: ┤ H ├──■───░─┤M├───\n",
       "        └───┘┌─┴─┐ ░ └╥┘┌─┐\n",
       "   q_1: ─────┤ X ├─░──╫─┤M├\n",
       "             └───┘ ░  ║ └╥┘\n",
       "meas: 2/══════════════╩══╩═\n",
       "                      0  1 </pre>"
      ],
      "text/plain": [
       "        ┌───┐      ░ ┌─┐   \n",
       "   q_0: ┤ H ├──■───░─┤M├───\n",
       "        └───┘┌─┴─┐ ░ └╥┘┌─┐\n",
       "   q_1: ─────┤ X ├─░──╫─┤M├\n",
       "             └───┘ ░  ║ └╥┘\n",
       "meas: 2/══════════════╩══╩═\n",
       "                      0  1 "
      ]
     },
     "execution_count": 6,
     "metadata": {},
     "output_type": "execute_result"
    }
   ],
   "source": [
    "circuit = QuantumCircuit(2)\n",
    "circuit.h(0)\n",
    "circuit.cx(0, 1)\n",
    "circuit.measure_all()\n",
    "circuit.draw()"
   ]
  },
  {
   "cell_type": "code",
   "execution_count": 7,
   "id": "db427da1-12d6-4c47-9e21-47834b2636c1",
   "metadata": {},
   "outputs": [
    {
     "data": {
      "text/plain": [
       "GraphData(nodes=[[0, 0, 0, 0, 0, 0, 0, 0, 0, 0, 0, 0, 0, 0, 0, 0, 0, 0, 0, 0, 0, 0, 0, 0, 1, 0, 0, 0, 0, 0, 0, 0, 0, 0, 0, 0, 0, 0, 0, 0, 0, 0, 0, 0, 0, 0, 0, 0, 0, 0, 0, 0, 0, 0, 0, 0.0, 0.0, 0.0], [0, 0, 0, 1, 0, 0, 0, 0, 0, 0, 0, 0, 0, 0, 0, 0, 0, 0, 0, 0, 0, 0, 0, 0, 0, 0, 0, 0, 0, 0, 0, 0, 0, 0, 0, 0, 0, 0, 0, 0, 0, 0, 0, 0, 0, 0, 0, 0, 0, 0, 0, 0, 0, 0, 0, 0.0, 0.0, 0.0], [0, 0, 0, 0, 0, 0, 0, 0, 0, 0, 0, 0, 0, 0, 0, 0, 0, 0, 0, 0, 0, 0, 0, 0, 0, 0, 0, 0, 0, 0, 0, 0, 0, 0, 0, 0, 0, 0, 0, 0, 0, 0, 0, 0, 0, 0, 0, 0, 0, 0, 0, 0, 0, 0, 1, 0.0, 0.0, 0.0], [0, 0, 0, 0, 0, 0, 0, 0, 0, 0, 0, 0, 0, 0, 0, 0, 0, 0, 0, 0, 0, 0, 0, 0, 0, 0, 0, 0, 0, 0, 0, 0, 0, 0, 0, 0, 0, 0, 0, 0, 0, 0, 0, 0, 0, 0, 0, 0, 0, 0, 0, 0, 0, 1, 0, 0.0, 0.0, 0.0], [0, 0, 0, 0, 0, 0, 0, 0, 0, 0, 0, 0, 0, 0, 0, 0, 0, 0, 0, 0, 0, 0, 0, 0, 0, 0, 0, 0, 0, 0, 0, 0, 0, 0, 0, 0, 0, 0, 0, 0, 0, 0, 0, 0, 0, 0, 0, 0, 0, 0, 0, 0, 0, 1, 0, 0.0, 0.0, 0.0]], edges=[[0, 1], [1, 2], [1, 2], [2, 4], [2, 3]], edge_features=[[0.0], [0.0], [0.0], [0.0], [0.0]])"
      ]
     },
     "execution_count": 7,
     "metadata": {},
     "output_type": "execute_result"
    }
   ],
   "source": [
    "# encode circuit to json graph data\n",
    "circuit_to_json_graph(circuit)"
   ]
  },
  {
   "cell_type": "code",
   "execution_count": 8,
   "id": "b372d23a-ae39-47a6-911d-5c323b8e465d",
   "metadata": {},
   "outputs": [
    {
     "data": {
      "text/plain": [
       "GraphData(nodes=[[0, 1, 0, 0, 0, 0, 0, 0, 0, 1.5707963267948966, 0.0, 0.0, 5.9698643286635694e-05, 9.355584184359312e-05, 0.0, 0.0, 0.0, 0.0, 0.0, 0.0, 0.0, 0.0], [0, 0, 1, 0, 0, 0, 0, 0, 0, 0.0, 0.0, 0.0, 5.9698643286635694e-05, 9.355584184359312e-05, 0.0, 0.0, 0.0, 0.0, 0.0, 0.0, 0.0, 0.0], [0, 1, 0, 0, 0, 0, 0, 0, 0, 1.5707963267948966, 0.0, 0.0, 5.9698643286635694e-05, 9.355584184359312e-05, 0.0, 0.0, 0.0, 0.0, 0.0, 0.0, 0.0, 0.0], [0, 0, 0, 0, 1, 0, 0, 0, 0, 0.0, 0.0, 0.0, 5.9698643286635694e-05, 9.355584184359312e-05, 8.305997230317399e-05, 0.00011553074510239035, 0.0, 0.0, 0.0, 0.0, 0.0, 0.0], [0, 0, 0, 0, 0, 0, 0, 0, 1, 0.0, 0.0, 0.0, 5.9698643286635694e-05, 9.355584184359312e-05, 8.305997230317399e-05, 0.00011553074510239035, 0.0, 0.0, 0.0, 0.0, 0.0, 0.0], [0, 0, 0, 0, 0, 0, 1, 0, 0, 0.0, 0.0, 0.0, 5.9698643286635694e-05, 9.355584184359312e-05, 0.0, 0.0, 0.0, 0.0, 0.0, 0.0, 0.0, 0.0], [0, 0, 0, 0, 0, 0, 1, 0, 0, 0.0, 0.0, 0.0, 0.0, 0.0, 8.305997230317399e-05, 0.00011553074510239035, 0.0, 0.0, 0.0, 0.0, 0.0, 0.0]], edges=[[0, 1], [1, 2], [2, 3], [3, 4], [3, 4], [4, 6], [4, 5]], edge_features=[[0.0], [0.0], [0.0], [0.0], [0.0], [0.0], [0.0]])"
      ]
     },
     "execution_count": 8,
     "metadata": {},
     "output_type": "execute_result"
    }
   ],
   "source": [
    "# encode circuit using backend\n",
    "fake_lima = FakeLimaV2()\n",
    "transpiled_circuit = transpile(circuit, fake_lima)\n",
    "\n",
    "circuit_to_json_graph(transpiled_circuit, node_encoder=BackendNodeEncoder(fake_lima))"
   ]
  },
  {
   "cell_type": "code",
   "execution_count": 9,
   "id": "74d1d837-0be4-4a32-8558-0ea82a4f29d7",
   "metadata": {},
   "outputs": [
    {
     "data": {
      "text/plain": [
       "GraphData(nodes=[[5.9698643286635694e-05, 9.355584184359312e-05, 5029685549.923759], [8.305997230317399e-05, 0.00011553074510239035, 5128321697.435369], [0.00010377694598809795, 9.477169960638749e-05, 5247491310.11471], [4.358447375590962e-05, 4.645933441447346e-05, 5303339662.601714], [1.7543975812787366e-05, 1.6441110002077736e-05, 5091790567.452984]], edges=[[4, 3], [3, 4], [0, 1], [1, 0], [3, 1], [1, 3], [2, 1], [1, 2]], edge_features=[[0.0], [0.0], [0.0], [0.0], [0.0], [0.0], [0.0], [0.0]])"
      ]
     },
     "execution_count": 9,
     "metadata": {},
     "output_type": "execute_result"
    }
   ],
   "source": [
    "# encode backend\n",
    "backend_to_json_graph(fake_lima)"
   ]
  },
  {
   "cell_type": "code",
   "execution_count": 11,
   "id": "1047bf61-566f-458a-a5de-787f16824e62",
   "metadata": {},
   "outputs": [],
   "source": [
    "from qiskit import transpile, QuantumCircuit\n",
    "from qiskit.providers.fake_provider import FakeLimaV2\n",
    "from qiskit.quantum_info import SparsePauliOp\n",
    "from torch_geometric.data import Data\n",
    "\n",
    "from ml_qem.data.encoders.graph_utils import ExpValData"
   ]
  },
  {
   "cell_type": "code",
   "execution_count": 12,
   "id": "fc1a98e0-d9c6-4c2c-a6e0-5fa85cc5eaec",
   "metadata": {},
   "outputs": [
    {
     "data": {
      "text/html": [
       "<pre style=\"word-wrap: normal;white-space: pre;background: #fff0;line-height: 1.1;font-family: &quot;Courier New&quot;,Courier,monospace\">        ┌───┐      ░ ┌─┐   \n",
       "   q_0: ┤ H ├──■───░─┤M├───\n",
       "        └───┘┌─┴─┐ ░ └╥┘┌─┐\n",
       "   q_1: ─────┤ X ├─░──╫─┤M├\n",
       "             └───┘ ░  ║ └╥┘\n",
       "meas: 2/══════════════╩══╩═\n",
       "                      0  1 </pre>"
      ],
      "text/plain": [
       "        ┌───┐      ░ ┌─┐   \n",
       "   q_0: ┤ H ├──■───░─┤M├───\n",
       "        └───┘┌─┴─┐ ░ └╥┘┌─┐\n",
       "   q_1: ─────┤ X ├─░──╫─┤M├\n",
       "             └───┘ ░  ║ └╥┘\n",
       "meas: 2/══════════════╩══╩═\n",
       "                      0  1 "
      ]
     },
     "execution_count": 12,
     "metadata": {},
     "output_type": "execute_result"
    }
   ],
   "source": [
    "circuit = QuantumCircuit(2)\n",
    "circuit.h(0)\n",
    "circuit.cx(0, 1)\n",
    "circuit.measure_all()\n",
    "circuit.draw()"
   ]
  },
  {
   "cell_type": "code",
   "execution_count": 13,
   "id": "aecbe254-2b9b-49f0-a05b-bf73620e46bf",
   "metadata": {},
   "outputs": [],
   "source": [
    "fake_lima = FakeLimaV2()\n",
    "transpiled_circuit = transpile(circuit, fake_lima)\n",
    "operator = SparsePauliOp([\"ZZZ\"])\n",
    "exp_vals = [0.]"
   ]
  },
  {
   "cell_type": "code",
   "execution_count": 14,
   "id": "12d5745b-23f2-44e8-872f-0f3c5690e956",
   "metadata": {},
   "outputs": [
    {
     "data": {
      "text/plain": [
       "ExpValData(circuit=GraphData(nodes=[[0, 1, 0, 0, 0, 0, 0, 0, 0, 1.5707963267948966, 0.0, 0.0, 5.9698643286635694e-05, 9.355584184359312e-05, 0.0, 0.0, 0.0, 0.0, 0.0, 0.0, 0.0, 0.0], [0, 0, 1, 0, 0, 0, 0, 0, 0, 0.0, 0.0, 0.0, 5.9698643286635694e-05, 9.355584184359312e-05, 0.0, 0.0, 0.0, 0.0, 0.0, 0.0, 0.0, 0.0], [0, 1, 0, 0, 0, 0, 0, 0, 0, 1.5707963267948966, 0.0, 0.0, 5.9698643286635694e-05, 9.355584184359312e-05, 0.0, 0.0, 0.0, 0.0, 0.0, 0.0, 0.0, 0.0], [0, 0, 0, 0, 1, 0, 0, 0, 0, 0.0, 0.0, 0.0, 5.9698643286635694e-05, 9.355584184359312e-05, 8.305997230317399e-05, 0.00011553074510239035, 0.0, 0.0, 0.0, 0.0, 0.0, 0.0], [0, 0, 0, 0, 0, 0, 0, 0, 1, 0.0, 0.0, 0.0, 5.9698643286635694e-05, 9.355584184359312e-05, 8.305997230317399e-05, 0.00011553074510239035, 0.0, 0.0, 0.0, 0.0, 0.0, 0.0], [0, 0, 0, 0, 0, 0, 1, 0, 0, 0.0, 0.0, 0.0, 5.9698643286635694e-05, 9.355584184359312e-05, 0.0, 0.0, 0.0, 0.0, 0.0, 0.0, 0.0, 0.0], [0, 0, 0, 0, 0, 0, 1, 0, 0, 0.0, 0.0, 0.0, 0.0, 0.0, 8.305997230317399e-05, 0.00011553074510239035, 0.0, 0.0, 0.0, 0.0, 0.0, 0.0]], edges=[[0, 1], [1, 2], [2, 3], [3, 4], [3, 4], [4, 6], [4, 5]], edge_features=[[0.0], [0.0], [0.0], [0.0], [0.0], [0.0], [0.0]]), circuit_depth=5, expectation_values=[0.0], observable=OperatorData(operator=[[1.0, 0, 1, 0, 0, 0, 1, 0, 0, 0, 1, 0, 0]]), backend=GraphData(nodes=[[5.9698643286635694e-05, 9.355584184359312e-05, 5029685549.923759], [8.305997230317399e-05, 0.00011553074510239035, 5128321697.435369], [0.00010377694598809795, 9.477169960638749e-05, 5247491310.11471], [4.358447375590962e-05, 4.645933441447346e-05, 5303339662.601714], [1.7543975812787366e-05, 1.6441110002077736e-05, 5091790567.452984]], edges=[[4, 3], [3, 4], [0, 1], [1, 0], [3, 1], [1, 3], [2, 1], [1, 2]], edge_features=[[0.0], [0.0], [0.0], [0.0], [0.0], [0.0], [0.0], [0.0]]))"
      ]
     },
     "execution_count": 14,
     "metadata": {},
     "output_type": "execute_result"
    }
   ],
   "source": [
    "# create exp val dataclass\n",
    "exp_val_data = ExpValData.build(\n",
    "    circuit=transpiled_circuit,\n",
    "    expectation_values=exp_vals,\n",
    "    observable=operator,\n",
    "    backend=fake_lima\n",
    ")\n",
    "exp_val_data"
   ]
  },
  {
   "cell_type": "code",
   "execution_count": 15,
   "id": "31ae08ea-d0f7-44aa-ae1f-35603694b991",
   "metadata": {},
   "outputs": [
    {
     "data": {
      "text/plain": [
       "Data(x=[7, 22], edge_index=[2, 7], edge_attr=[7, 1], y=[1, 1], circuit_depth=[1, 1], observable=[1, 1, 13], backend_nodes=[5, 3], backend_edges=[2, 8], backend_edge_features=[8, 1])"
      ]
     },
     "execution_count": 15,
     "metadata": {},
     "output_type": "execute_result"
    }
   ],
   "source": [
    "# convert ExpValData dataclass into Pytorch geometric Data\n",
    "exp_val_data.to_pyg()"
   ]
  },
  {
   "cell_type": "code",
   "execution_count": null,
   "id": "3bdd86e6",
   "metadata": {},
   "outputs": [],
   "source": []
  }
 ],
 "metadata": {
  "kernelspec": {
   "display_name": "Python 3 (ipykernel)",
   "language": "python",
   "name": "python3"
  },
  "language_info": {
   "codemirror_mode": {
    "name": "ipython",
    "version": 3
   },
   "file_extension": ".py",
   "mimetype": "text/x-python",
   "name": "python",
   "nbconvert_exporter": "python",
   "pygments_lexer": "ipython3",
   "version": "3.9.19"
  }
 },
 "nbformat": 4,
 "nbformat_minor": 5
}
