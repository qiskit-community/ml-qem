{
 "cells": [
  {
   "cell_type": "markdown",
   "id": "c05370b2-b782-4bc3-9611-e62d04e8dbf8",
   "metadata": {},
   "source": [
    "# Guide: data writing and loading"
   ]
  },
  {
   "cell_type": "code",
   "execution_count": 2,
   "id": "5283f6a6-6131-4518-aff0-5228df3ec2ce",
   "metadata": {},
   "outputs": [],
   "source": [
    "from qiskit import transpile, QuantumCircuit\n",
    "from qiskit.providers.fake_provider import FakeLimaV2\n",
    "from qiskit.quantum_info import SparsePauliOp\n",
    "\n",
    "from ml_qem.data.encoders.graph_utils import ExpValData\n",
    "from ml_qem.data.dataio.dataio import ExpValDataWriter\n",
    "from ml_qem.data.loaders.dataclasses import ExpValDataSet"
   ]
  },
  {
   "cell_type": "code",
   "execution_count": 3,
   "id": "e75f5374-5632-458a-8b97-7051d0a2f740",
   "metadata": {},
   "outputs": [
    {
     "data": {
      "text/html": [
       "<pre style=\"word-wrap: normal;white-space: pre;background: #fff0;line-height: 1.1;font-family: &quot;Courier New&quot;,Courier,monospace\">        ┌───┐      ░ ┌─┐   \n",
       "   q_0: ┤ H ├──■───░─┤M├───\n",
       "        └───┘┌─┴─┐ ░ └╥┘┌─┐\n",
       "   q_1: ─────┤ X ├─░──╫─┤M├\n",
       "             └───┘ ░  ║ └╥┘\n",
       "meas: 2/══════════════╩══╩═\n",
       "                      0  1 </pre>"
      ],
      "text/plain": [
       "        ┌───┐      ░ ┌─┐   \n",
       "   q_0: ┤ H ├──■───░─┤M├───\n",
       "        └───┘┌─┴─┐ ░ └╥┘┌─┐\n",
       "   q_1: ─────┤ X ├─░──╫─┤M├\n",
       "             └───┘ ░  ║ └╥┘\n",
       "meas: 2/══════════════╩══╩═\n",
       "                      0  1 "
      ]
     },
     "execution_count": 3,
     "metadata": {},
     "output_type": "execute_result"
    }
   ],
   "source": [
    "circuit = QuantumCircuit(2)\n",
    "circuit.h(0)\n",
    "circuit.cx(0, 1)\n",
    "circuit.measure_all()\n",
    "circuit.draw()"
   ]
  },
  {
   "cell_type": "code",
   "execution_count": 4,
   "id": "d76e0ba4-67d5-4e3f-92c4-052898d0d3df",
   "metadata": {},
   "outputs": [],
   "source": [
    "fake_lima = FakeLimaV2()\n",
    "transpiled_circuit = transpile(circuit, fake_lima)\n",
    "operator = SparsePauliOp([\"ZZZ\"])\n",
    "exp_vals = [0.]"
   ]
  },
  {
   "cell_type": "code",
   "execution_count": 5,
   "id": "293609ae-43d0-4ddf-a19b-43c84303a0dd",
   "metadata": {},
   "outputs": [
    {
     "data": {
      "text/plain": [
       "ExpValData(circuit=GraphData(nodes=[[0, 1, 0, 0, 0, 0, 0, 0, 0, 1.5707963267948966, 0.0, 0.0, 5.9698643286635694e-05, 9.355584184359312e-05, 0.0, 0.0, 0.0, 0.0, 0.0, 0.0, 0.0, 0.0], [0, 0, 1, 0, 0, 0, 0, 0, 0, 0.0, 0.0, 0.0, 5.9698643286635694e-05, 9.355584184359312e-05, 0.0, 0.0, 0.0, 0.0, 0.0, 0.0, 0.0, 0.0], [0, 1, 0, 0, 0, 0, 0, 0, 0, 1.5707963267948966, 0.0, 0.0, 5.9698643286635694e-05, 9.355584184359312e-05, 0.0, 0.0, 0.0, 0.0, 0.0, 0.0, 0.0, 0.0], [0, 0, 0, 0, 1, 0, 0, 0, 0, 0.0, 0.0, 0.0, 5.9698643286635694e-05, 9.355584184359312e-05, 8.305997230317399e-05, 0.00011553074510239035, 0.0, 0.0, 0.0, 0.0, 0.0, 0.0], [0, 0, 0, 0, 0, 0, 0, 0, 1, 0.0, 0.0, 0.0, 5.9698643286635694e-05, 9.355584184359312e-05, 8.305997230317399e-05, 0.00011553074510239035, 0.0, 0.0, 0.0, 0.0, 0.0, 0.0], [0, 0, 0, 0, 0, 0, 1, 0, 0, 0.0, 0.0, 0.0, 5.9698643286635694e-05, 9.355584184359312e-05, 0.0, 0.0, 0.0, 0.0, 0.0, 0.0, 0.0, 0.0], [0, 0, 0, 0, 0, 0, 1, 0, 0, 0.0, 0.0, 0.0, 0.0, 0.0, 8.305997230317399e-05, 0.00011553074510239035, 0.0, 0.0, 0.0, 0.0, 0.0, 0.0]], edges=[[0, 1], [1, 2], [2, 3], [3, 4], [3, 4], [4, 6], [4, 5]], edge_features=[[0.0], [0.0], [0.0], [0.0], [0.0], [0.0], [0.0]]), circuit_depth=5, expectation_values=[0.0], observable=OperatorData(operator=[[1.0, 0, 1, 0, 0, 0, 1, 0, 0, 0, 1, 0, 0]]), backend=GraphData(nodes=[[5.9698643286635694e-05, 9.355584184359312e-05, 5029685549.923759], [8.305997230317399e-05, 0.00011553074510239035, 5128321697.435369], [0.00010377694598809795, 9.477169960638749e-05, 5247491310.11471], [4.358447375590962e-05, 4.645933441447346e-05, 5303339662.601714], [1.7543975812787366e-05, 1.6441110002077736e-05, 5091790567.452984]], edges=[[4, 3], [3, 4], [0, 1], [1, 0], [3, 1], [1, 3], [2, 1], [1, 2]], edge_features=[[0.0], [0.0], [0.0], [0.0], [0.0], [0.0], [0.0], [0.0]]))"
      ]
     },
     "execution_count": 5,
     "metadata": {},
     "output_type": "execute_result"
    }
   ],
   "source": [
    "# create exp val dataclass\n",
    "exp_val_data = ExpValData.build(\n",
    "    circuit=transpiled_circuit,\n",
    "    expectation_values=exp_vals,\n",
    "    observable=operator,\n",
    "    backend=fake_lima\n",
    ")\n",
    "exp_val_data"
   ]
  },
  {
   "cell_type": "code",
   "execution_count": 6,
   "id": "2bb31160-bd1b-429b-b313-29c5f0fe285b",
   "metadata": {},
   "outputs": [],
   "source": [
    "# create data writer and save data to file\n",
    "writer = ExpValDataWriter()\n",
    "writer.save_to_file(\n",
    "    path=\"./data.json\",\n",
    "    data=[exp_val_data, exp_val_data, exp_val_data]\n",
    ")"
   ]
  },
  {
   "cell_type": "code",
   "execution_count": 7,
   "id": "83d50814-f4c9-4c16-bcae-83bdd61770b1",
   "metadata": {},
   "outputs": [],
   "source": [
    "# create data loader\n",
    "loader = ExpValDataSet(path=[\"./data.json\"])"
   ]
  },
  {
   "cell_type": "code",
   "execution_count": 8,
   "id": "3271e649-3b58-4db0-8bf5-9886fc579831",
   "metadata": {},
   "outputs": [
    {
     "name": "stdout",
     "output_type": "stream",
     "text": [
      "Data(x=[7, 22], edge_index=[2, 14], edge_attr=[7, 1], y=[1, 1], circuit_depth=[1, 1], observable=[1, 1, 13], backend_nodes=[5, 3], backend_edges=[2, 8], backend_edge_features=[8, 1])\n",
      "Data(x=[7, 22], edge_index=[2, 14], edge_attr=[7, 1], y=[1, 1], circuit_depth=[1, 1], observable=[1, 1, 13], backend_nodes=[5, 3], backend_edges=[2, 8], backend_edge_features=[8, 1])\n",
      "Data(x=[7, 22], edge_index=[2, 14], edge_attr=[7, 1], y=[1, 1], circuit_depth=[1, 1], observable=[1, 1, 13], backend_nodes=[5, 3], backend_edges=[2, 8], backend_edge_features=[8, 1])\n"
     ]
    }
   ],
   "source": [
    "# iterate through entries of dataloader\n",
    "for entry in loader:\n",
    "    print(entry)"
   ]
  },
  {
   "cell_type": "code",
   "execution_count": null,
   "id": "26b04b73-adbd-42ed-b9f1-74e9e526dfab",
   "metadata": {},
   "outputs": [],
   "source": []
  }
 ],
 "metadata": {
  "kernelspec": {
   "display_name": "Python 3 (ipykernel)",
   "language": "python",
   "name": "python3"
  },
  "language_info": {
   "codemirror_mode": {
    "name": "ipython",
    "version": 3
   },
   "file_extension": ".py",
   "mimetype": "text/x-python",
   "name": "python",
   "nbconvert_exporter": "python",
   "pygments_lexer": "ipython3",
   "version": "3.9.19"
  }
 },
 "nbformat": 4,
 "nbformat_minor": 5
}
